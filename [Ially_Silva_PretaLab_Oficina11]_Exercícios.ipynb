{
  "nbformat": 4,
  "nbformat_minor": 0,
  "metadata": {
    "colab": {
      "provenance": [],
      "include_colab_link": true
    },
    "kernelspec": {
      "name": "python3",
      "display_name": "Python 3"
    },
    "language_info": {
      "name": "python"
    }
  },
  "cells": [
    {
      "cell_type": "markdown",
      "metadata": {
        "id": "view-in-github",
        "colab_type": "text"
      },
      "source": [
        "<a href=\"https://colab.research.google.com/github/iallysamara/oficina11-PretaLab/blob/main/%5BIally_Silva_PretaLab_Oficina11%5D_Exerc%C3%ADcios.ipynb\" target=\"_parent\"><img src=\"https://colab.research.google.com/assets/colab-badge.svg\" alt=\"Open In Colab\"/></a>"
      ]
    },
    {
      "cell_type": "markdown",
      "source": [
        "*Para a realização desses exercícios, peço que configurem para não aparecer sugestões da IA Gemini*"
      ],
      "metadata": {
        "id": "pAFFoVXs4XQo"
      }
    },
    {
      "cell_type": "markdown",
      "source": [
        "### A) **Utilizando variáveis, gere uma apresentação curta de sí mesma, como nesse exemplo**:\n",
        "\n"
      ],
      "metadata": {
        "id": "rZbJ_1LJ2DLf"
      }
    },
    {
      "cell_type": "code",
      "source": [
        "# Oi! Eu sou a Amanda, tenho 30 anos, moro em Salvador e meu signo é Gêmeos"
      ],
      "metadata": {
        "id": "ibKRn-P37-b2"
      },
      "execution_count": null,
      "outputs": []
    },
    {
      "cell_type": "code",
      "source": [
        "# Dica: As variáveis podem ser algo como:\n",
        "nome = \"Amanda\"\n",
        "idade = 30\n",
        "cidade = \"Salvador\"\n",
        "signo = \"Gêmeos\""
      ],
      "metadata": {
        "id": "n0Rjb0s_2ula"
      },
      "execution_count": 1,
      "outputs": []
    },
    {
      "cell_type": "code",
      "source": [
        "# Resposta aqui:\n",
        "nome = input(\"Qual é o seu nome? \")\n",
        "idade = input(\"Qual é a sua idade? \")\n",
        "cidade = input(\"Qual é a cidade que você mora? \")\n",
        "signo = input(\"Qual é o seu signo? \")\n",
        "print(f'Meu Nome é {nome}, tenho {idade} anos, moro em {cidade} e sou do signo de {signo}.')"
      ],
      "metadata": {
        "id": "kil7YL7Z3AoV",
        "outputId": "21bd31e5-12bc-4644-9d39-80a799e49506",
        "colab": {
          "base_uri": "https://localhost:8080/"
        }
      },
      "execution_count": null,
      "outputs": [
        {
          "output_type": "stream",
          "name": "stdout",
          "text": [
            "Qual é o seu nome? Samy\n",
            "Qual é a sua idade? 34\n",
            "Qual é a cidade que você mora? Porto Alegre\n",
            "Qual é o seu signo? Touro\n",
            "Meu Nome é Samy, tenho 34 anos, moro em Porto Alegre e sou do signo de Touro\n"
          ]
        }
      ]
    },
    {
      "cell_type": "markdown",
      "source": [
        "\n",
        "\n",
        "---\n",
        "\n"
      ],
      "metadata": {
        "id": "dgkbPq2JK7ES"
      }
    },
    {
      "cell_type": "markdown",
      "source": [
        "### B) **Qual o maior valor dessa lista de gastos?**\n",
        "\n"
      ],
      "metadata": {
        "id": "jQnXX8Ii348J"
      }
    },
    {
      "cell_type": "code",
      "source": [],
      "metadata": {
        "id": "idZBwRcZjOz4"
      },
      "execution_count": null,
      "outputs": []
    },
    {
      "cell_type": "code",
      "source": [
        "gastos = [10.60, 11.99, 5.50, 10, 45.99, 7.50, 4.00]"
      ],
      "metadata": {
        "id": "8CeAhHTf9aYk"
      },
      "execution_count": 3,
      "outputs": []
    },
    {
      "cell_type": "code",
      "source": [
        "# O valor mais caro é: 45.99"
      ],
      "metadata": {
        "id": "EWRw9Zkn-RWL"
      },
      "execution_count": null,
      "outputs": []
    },
    {
      "cell_type": "code",
      "source": [
        "# Resposta aqui\n",
        "maior_valor = max(gastos)\n",
        "print(\"O maior valor da lista é:\", maior_valor)\n",
        "\n",
        "\n",
        "\n"
      ],
      "metadata": {
        "id": "muN_hCwu-dWp",
        "colab": {
          "base_uri": "https://localhost:8080/"
        },
        "outputId": "62cf6941-6c23-4b15-d6f6-b099b5404e98"
      },
      "execution_count": 4,
      "outputs": [
        {
          "output_type": "stream",
          "name": "stdout",
          "text": [
            "O maior valor da lista é: 45.99\n"
          ]
        }
      ]
    },
    {
      "cell_type": "markdown",
      "source": [
        "\n",
        "\n",
        "---\n",
        "\n"
      ],
      "metadata": {
        "id": "skCyGhKG-gpv"
      }
    },
    {
      "cell_type": "markdown",
      "source": [
        "### C) **Qual a média dessa lista?**:\n",
        "\n"
      ],
      "metadata": {
        "id": "7-fmR1dU9Lmm"
      }
    },
    {
      "cell_type": "code",
      "source": [
        "numeros = [10,80,50,90,70]"
      ],
      "metadata": {
        "id": "_x74pbVn7t91"
      },
      "execution_count": null,
      "outputs": []
    },
    {
      "cell_type": "code",
      "source": [
        "# A média dos números é: 60.0"
      ],
      "metadata": {
        "id": "QGJ9F4go8nmt"
      },
      "execution_count": null,
      "outputs": []
    },
    {
      "cell_type": "code",
      "source": [
        "# Resposta aqui\n",
        "numeros = [10,80,50,90,70]\n",
        "media = sum(numeros) / len(numeros)\n",
        "print(\"A média dos valores da lista é:\", media)"
      ],
      "metadata": {
        "id": "C8SOjNdB8Ptz",
        "colab": {
          "base_uri": "https://localhost:8080/"
        },
        "outputId": "ef2f245f-3a51-4a22-b206-1556ccb1cb2e"
      },
      "execution_count": 6,
      "outputs": [
        {
          "output_type": "stream",
          "name": "stdout",
          "text": [
            "A média dos valores da lista é: 60.0\n"
          ]
        }
      ]
    },
    {
      "cell_type": "markdown",
      "source": [
        "\n",
        "\n",
        "---\n",
        "\n"
      ],
      "metadata": {
        "id": "A5riB5veK95b"
      }
    },
    {
      "cell_type": "markdown",
      "source": [
        "### D) **Qual a média final dessas notas, qual a maior e qual a menor nota**"
      ],
      "metadata": {
        "id": "goAxWssZ_N5a"
      }
    },
    {
      "cell_type": "code",
      "source": [
        "notas = [10,7.8, 6, 8, 9]\n"
      ],
      "metadata": {
        "id": "_IY5S15p_YIR"
      },
      "execution_count": null,
      "outputs": []
    },
    {
      "cell_type": "code",
      "source": [
        "# A média final é 8.16. A sua maior nota foi 10 e a menor nota foi 6!"
      ],
      "metadata": {
        "id": "Xa-J0VSI_6YZ",
        "colab": {
          "base_uri": "https://localhost:8080/"
        },
        "outputId": "3c3b82fd-4fd5-43a2-c261-1d45bd7c3db5"
      },
      "execution_count": 11,
      "outputs": [
        {
          "output_type": "stream",
          "name": "stdout",
          "text": [
            "A média das suas notas foi 8.16 do total de 5 notas, sua maior nota foi 10 e sua menor nota foi 6.\n"
          ]
        }
      ]
    },
    {
      "cell_type": "code",
      "source": [
        "# Resposta\n",
        "\n",
        "notas = [10,7.8, 6, 8, 9]\n",
        "media_notas = sum(notas) / len(notas)\n",
        "maior_nota = max(notas)\n",
        "menor_nota = min(notas)\n",
        "qtd_notas = len(notas)\n",
        "\n",
        "print(f\"A média das suas notas foi {media_notas} do total de {qtd_notas} notas, sua maior nota foi {maior_nota} e sua menor nota foi {menor_nota}.\")"
      ],
      "metadata": {
        "colab": {
          "base_uri": "https://localhost:8080/"
        },
        "id": "HQUoU2LSlzxS",
        "outputId": "26c149f3-8179-4f5e-fef0-b7cc8abfd79d"
      },
      "execution_count": 14,
      "outputs": [
        {
          "output_type": "stream",
          "name": "stdout",
          "text": [
            "A média das suas notas foi 8.16 do total de 5 notas, sua maior nota foi 10 e sua menor nota foi 6.\n"
          ]
        }
      ]
    },
    {
      "cell_type": "markdown",
      "source": [
        "\n",
        "\n",
        "---\n",
        "\n"
      ],
      "metadata": {
        "id": "ifwPeyZQK-2l"
      }
    },
    {
      "cell_type": "markdown",
      "source": [
        "### E) **Com as mesmas informações do exercício anterior, apresente se a aluna foi APROVADA ou REPROVADA**"
      ],
      "metadata": {
        "id": "p8L7DdPbApDN"
      }
    },
    {
      "cell_type": "markdown",
      "source": [
        "*  Se a média for igual ou superior a 6 apresentar a mensagem \"Parabéns, você foi APROVADA!\"\n",
        "*  Se a média for menor, apresentar \"Não foi dessa vez, infelizmente você foi REPROVADA!\""
      ],
      "metadata": {
        "id": "kb21A5Z1A7CU"
      }
    },
    {
      "cell_type": "code",
      "source": [
        "# Parabéns você foi aprovada!"
      ],
      "metadata": {
        "id": "InjCDLOZBZhC"
      },
      "execution_count": null,
      "outputs": []
    },
    {
      "cell_type": "code",
      "source": [
        "# Resposta aqui\n",
        "notas = [10,7.8, 6, 8, 9]\n",
        "nome = input(\"Digite o nome da aluna: \")\n",
        "media_notas = sum(notas) / len(notas)\n",
        "\n",
        "if(media_notas >= 6):\n",
        "  print(f\"Parabéns {nome} você foi aprovada! Sua média foi {media_notas}.\")\n"
      ],
      "metadata": {
        "id": "g2nUuyoUalog",
        "colab": {
          "base_uri": "https://localhost:8080/"
        },
        "outputId": "a0fff6c8-879f-4d12-b64c-5a4aee92db21"
      },
      "execution_count": 12,
      "outputs": [
        {
          "output_type": "stream",
          "name": "stdout",
          "text": [
            "Nome da aluna: Samy\n",
            "Parabéns Samy você foi aprovada! Sua média foi 8.16.\n"
          ]
        }
      ]
    },
    {
      "cell_type": "markdown",
      "source": [
        "\n",
        "\n",
        "---\n",
        "\n"
      ],
      "metadata": {
        "id": "X5Ya3MHRK_4N"
      }
    },
    {
      "cell_type": "markdown",
      "source": [
        "### F) **Desenvolva um programa que realize as quatro operações básicas (adição, subtração, multiplicação e divisão) entre dois números. A usuária deve escolher a operação e inserir os valores**"
      ],
      "metadata": {
        "id": "YT8vTnW2ENVL"
      }
    },
    {
      "cell_type": "code",
      "source": [
        "#Digite o primeiro número: 10\n",
        "#Digite o segundo número: 20\n",
        "#Digite a operação (+, -, *, /): +\n",
        "#Resultado: 30.0"
      ],
      "metadata": {
        "id": "gpmOjgseE4aD"
      },
      "execution_count": null,
      "outputs": []
    },
    {
      "cell_type": "code",
      "source": [
        "# Resposta aqui\n",
        "while True:\n",
        "    try:\n",
        "        num_1 = int(input(\"Digite o primeiro número: \"))\n",
        "        num_2 = int(input(\"Digite o segundo número: \"))\n",
        "        operacao = int(input('''Digite um número de acordo com a operação desejada:\n",
        "1 = Soma\n",
        "2 = Subtração\n",
        "3 = Multiplicação\n",
        "4 = Divisão\n",
        "Escolha: '''))\n",
        "\n",
        "        if operacao == 1:\n",
        "            print(\"A operação escolhida foi soma\")\n",
        "            soma = num_1 + num_2\n",
        "            print(f\"A soma de {num_1} e {num_2} é {soma}.\")\n",
        "        elif operacao == 2:\n",
        "            print(\"A operação escolhida foi subtração\")\n",
        "            subtracao = num_1 - num_2\n",
        "            print(f\"A subtração de {num_1} e {num_2} é {subtracao}.\")\n",
        "        elif operacao == 3:\n",
        "            print(\"A operação escolhida foi multiplicação\")\n",
        "            multiplicacao = num_1 * num_2\n",
        "            print(f\"A multiplicação de {num_1} e {num_2} é {multiplicacao}.\")\n",
        "        elif operacao == 4:\n",
        "            if num_2 != 0:\n",
        "                print(\"A operação escolhida foi divisão\")\n",
        "                divisao = num_1 / num_2\n",
        "                print(f\"A divisão de {num_1} e {num_2} é {divisao}.\")\n",
        "            else:\n",
        "                print(\"Erro: Não é possível dividir por zero.\")\n",
        "        else:\n",
        "            print(\"Operação inválida. Por favor, escolha um número entre 1 e 4.\")\n",
        "\n",
        "        break\n",
        "\n",
        "    except ValueError:\n",
        "        print(\"Erro: Por favor, digite um número válido.\")\n"
      ],
      "metadata": {
        "id": "iTu22D0VEinD",
        "colab": {
          "base_uri": "https://localhost:8080/"
        },
        "outputId": "806df21e-5563-4f79-8e11-d875411caaf8"
      },
      "execution_count": 25,
      "outputs": [
        {
          "output_type": "stream",
          "name": "stdout",
          "text": [
            "Digite o primeiro número: j\n",
            "Erro: Por favor, digite um número válido.\n",
            "Digite o primeiro número: 1\n",
            "Digite o segundo número: \n",
            "Erro: Por favor, digite um número válido.\n",
            "Digite o primeiro número: 2\n",
            "Digite o segundo número: 5\n",
            "Digite um número de acordo com a operação desejada:\n",
            "1 = Soma\n",
            "2 = Subtração\n",
            "3 = Multiplicação\n",
            "4 = Divisão\n",
            "Escolha: 6\n",
            "Operação inválida. Por favor, escolha um número entre 1 e 4.\n"
          ]
        }
      ]
    },
    {
      "cell_type": "markdown",
      "source": [
        "\n",
        "\n",
        "---\n",
        "\n"
      ],
      "metadata": {
        "id": "X0ZvZeNCLA04"
      }
    },
    {
      "cell_type": "markdown",
      "source": [
        "### G) **Faça um Programa que leia três números e mostre-os em ordem decrescente.**"
      ],
      "metadata": {
        "id": "vdf5rEiZF5KM"
      }
    },
    {
      "cell_type": "code",
      "source": [
        "# Resposta aqui\n",
        "while True:\n",
        "    try:\n",
        "        num_1 = int(input(\"Digite o primeiro número: \"))\n",
        "        num_2 = int(input(\"Digite o segundo número: \"))\n",
        "        num_3 = int(input(\"Digite o terceiro número: \"))\n",
        "\n",
        "        lista = [num_1, num_2, num_3]\n",
        "\n",
        "        maior_num_lista = max(lista)\n",
        "        print(f\"O maior número digitado foi {maior_num_lista}\")\n",
        "\n",
        "        break\n",
        "\n",
        "    except ValueError:\n",
        "        print(\"Erro: Por favor, digite um número válido.\")"
      ],
      "metadata": {
        "id": "PMPrtPEOF7eE",
        "colab": {
          "base_uri": "https://localhost:8080/"
        },
        "outputId": "377e0f82-ecb9-4b88-bb36-aff402b6a8fd"
      },
      "execution_count": 27,
      "outputs": [
        {
          "output_type": "stream",
          "name": "stdout",
          "text": [
            "Digite o primeiro número: 6\n",
            "Digite o segundo número: 98\n",
            "Digite o terceiro número: 36\n",
            "O maior número digitado foi 98\n"
          ]
        }
      ]
    },
    {
      "cell_type": "markdown",
      "source": [
        "\n",
        "\n",
        "---\n",
        "\n"
      ],
      "metadata": {
        "id": "lX9BdmxyLBtt"
      }
    },
    {
      "cell_type": "markdown",
      "source": [
        "### H) **Faça uma função que retorne o reverso de um número inteiro informado. Por exemplo: 153 -> 351**"
      ],
      "metadata": {
        "id": "p0A-lta0Gmcq"
      }
    },
    {
      "cell_type": "code",
      "source": [
        "# Resposta aqui\n",
        "while True:\n",
        "    try:\n",
        "        num = int(input(\"Digite um número: \"))\n",
        "\n",
        "        num_reverse = int(str(num)[::-1])\n",
        "        print(f\"O {num} ao contrário é {num_reverse}.\")\n",
        "\n",
        "        break\n",
        "\n",
        "    except ValueError:\n",
        "        print(\"Erro: Por favor, digite um número válido.\")"
      ],
      "metadata": {
        "id": "0Ppk5OneHom-",
        "colab": {
          "base_uri": "https://localhost:8080/"
        },
        "outputId": "f38d28bf-d39a-43f2-f331-ebddc8e1a1e6"
      },
      "execution_count": 29,
      "outputs": [
        {
          "output_type": "stream",
          "name": "stdout",
          "text": [
            "Digite um número: 658\n",
            "O 658 ao contrário é 856\n"
          ]
        }
      ]
    },
    {
      "cell_type": "markdown",
      "source": [
        "\n",
        "\n",
        "---\n",
        "\n"
      ],
      "metadata": {
        "id": "GWlXyhTlLCii"
      }
    },
    {
      "cell_type": "markdown",
      "source": [
        "### I) **Faça um programa que solicite o nome do usuário e imprima-o em formato de escada.**"
      ],
      "metadata": {
        "id": "4DKAX96gKJZv"
      }
    },
    {
      "cell_type": "code",
      "source": [
        "#Digite seu nome: amanda\n",
        "#a\n",
        "#am\n",
        "#ama\n",
        "#aman\n",
        "#amand\n",
        "#amanda"
      ],
      "metadata": {
        "id": "yRsRy144KKds"
      },
      "execution_count": null,
      "outputs": []
    },
    {
      "cell_type": "code",
      "source": [
        "nome = input(\"Digite um nome? \")\n",
        "\n",
        "for i in range(1, len(nome) + 1):\n",
        "    print(nome[:i])\n",
        "\n"
      ],
      "metadata": {
        "id": "N2ohocU_KO08",
        "colab": {
          "base_uri": "https://localhost:8080/"
        },
        "outputId": "96c34775-9f1e-444d-b620-be0f779eb9e6"
      },
      "execution_count": 31,
      "outputs": [
        {
          "output_type": "stream",
          "name": "stdout",
          "text": [
            "Digite um nome? Samy\n",
            "S\n",
            "Sa\n",
            "Sam\n",
            "Samy\n"
          ]
        }
      ]
    }
  ]
}