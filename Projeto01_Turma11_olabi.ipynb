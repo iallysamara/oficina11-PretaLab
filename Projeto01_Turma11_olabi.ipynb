{
  "cells": [
    {
      "cell_type": "markdown",
      "metadata": {
        "id": "view-in-github",
        "colab_type": "text"
      },
      "source": [
        "<a href=\"https://colab.research.google.com/github/iallysamara/oficina11-PretaLab/blob/main/Projeto01_Turma11_olabi.ipynb\" target=\"_parent\"><img src=\"https://colab.research.google.com/assets/colab-badge.svg\" alt=\"Open In Colab\"/></a>"
      ]
    },
    {
      "cell_type": "markdown",
      "metadata": {
        "id": "7G_k2AAI-UaP"
      },
      "source": [
        "#Diversidade no Trabalho e Tecnologia"
      ]
    },
    {
      "cell_type": "markdown",
      "metadata": {
        "id": "iFa8XX0U-ezy"
      },
      "source": [
        "Neste exercício, o grupo vai criar um conjunto de módulos e pacotes Python que simula a coleta e o processamento de dados sobre a diversidade em empresas de tecnologia. O objetivo é trabalhar com a criação de pacotes e módulos, e praticar a leitura e escrita de arquivos de texto (CSV, txt, etc.) em Python.\n",
        "\n",
        "Vão usar o que aprenderam e também usar as habilidades que vocês já tem para fazer esse trabalho.\n",
        "Façam grupo de pelo menos 4 pessoas e cada pessoa vai ficar responsável por algumas tarefas:\n",
        "**Tarefa:** Utilizar o GitHub para colaborar no desenvolvimento do pacote. Cada aluna pode criar uma branch, implementar suas funções e enviar pull requests para revisão.\n",
        "**Exemplo:** Criar um repositório colaborativo onde cada aluna pode contribuir com uma parte do pacote e utilizar o controle de versão para acompanhar as mudanças.\n",
        "\n",
        "**Módulo 1: Coleta de Dados**\n",
        "\n",
        "  **Tarefa:** Criar um módulo chamado `coleta_dados.py` que contenha funções para ler arquivos CSV que simulam a coleta de dados sobre diversidade nas empresas. Cada aluna será responsável por trabalhar com um arquivo que contenha dados de diferentes empresa.\n",
        "  \n",
        "  **Exemplo de código:**\n",
        "  \n",
        "```\n",
        "import csv\n",
        "\n",
        "def ler_dados_diversidade(arquivo_csv):\n",
        "    with open(arquivo_csv, mode='r') as file:\n",
        "        reader = csv.reader(file)\n",
        "        dados = [row for row in reader]\n",
        "        return dados\n",
        "```\n",
        "\n",
        "\n",
        "\n"
      ]
    },
    {
      "cell_type": "code",
      "execution_count": 33,
      "metadata": {
        "colab": {
          "base_uri": "https://localhost:8080/"
        },
        "id": "8LQYK4hwXMjl",
        "outputId": "875cc50c-902c-401c-99d1-b84aac63bad7"
      },
      "outputs": [
        {
          "output_type": "stream",
          "name": "stdout",
          "text": [
            "Overwriting coleta_dados.py\n"
          ]
        }
      ],
      "source": [
        "%%writefile coleta_dados.py\n",
        "\n",
        "import csv\n",
        "\n",
        "def ler_dados_diversidade():\n",
        "    with open(\"br_datahackers_state_data_microdados.csv\", mode='r') as file:\n",
        "        reader = csv.reader(file)\n",
        "        dados = [row for row in reader]\n",
        "        return dados"
      ]
    },
    {
      "cell_type": "markdown",
      "metadata": {
        "id": "QZfPjI0YAZib"
      },
      "source": [
        "Podem criar CSV no google planilha ou pegar um pronto na internet"
      ]
    },
    {
      "cell_type": "markdown",
      "metadata": {
        "id": "IdiXreU_b8Ef"
      },
      "source": []
    },
    {
      "cell_type": "markdown",
      "metadata": {
        "id": "YoJ7JnFVAlri"
      },
      "source": [
        "#**Módulo 2 - Processamento de Dados**\n"
      ]
    },
    {
      "cell_type": "markdown",
      "metadata": {
        "id": "gwCaE7jtA3rg"
      },
      "source": [
        "\n",
        " **Tarefa:** Desenvolver um módulo chamado `processamento_dados.py`, onde serão processadas as informações lidas no primeiro módulo. Funções para calcular proporções, médias e categorizações dos dados **(ex.: porcentagem de mulheres na equipe, diversidade racial).**\n",
        "\n",
        "**Exemplo de código:**\n",
        "\n",
        "\n",
        "```\n",
        "def calcular_porcentagem_genero(dados):\n",
        "    total = len(dados)\n",
        "    mulheres = sum(1 for linha in dados if linha[1] == 'Feminino')\n",
        "    return (mulheres / total) * 100\n",
        "\n",
        "```\n",
        "\n"
      ]
    },
    {
      "cell_type": "code",
      "execution_count": 39,
      "metadata": {
        "colab": {
          "base_uri": "https://localhost:8080/"
        },
        "id": "GoOqm_7NmC8f",
        "outputId": "3d5c204b-62e6-4e6a-cabf-eccb4cf6a8e8"
      },
      "outputs": [
        {
          "output_type": "stream",
          "name": "stdout",
          "text": [
            "Overwriting processamento_dados.py\n"
          ]
        }
      ],
      "source": [
        "%%writefile processamento_dados.py\n",
        "\n",
        "from coleta_dados import ler_dados_diversidade\n",
        "dados = coleta_dados.ler_dados_diversidade()\n",
        "\n",
        "def calcular_porcentagem_genero_mulheres(dados):\n",
        "    total = len(dados)\n",
        "    mulheres = sum(1 for linha in dados if linha[3] == 'Feminino')\n",
        "    return (mulheres / total) * 100\n",
        "\n",
        "\n",
        "def calcular_porcentagem_genero_homens(dados):\n",
        "    total = len(dados)\n",
        "    homens = sum(1 for linha in dados if linha[3] == 'Masculino')\n",
        "    return (homens / total) * 100\n",
        "\n",
        "\n",
        "def calcular_porcentagem_genero_total(dados):\n",
        "    total = len(dados)\n",
        "    genero_total = sum(1 for linha in dados if linha[3] == 'Masculino' or linha[3] == 'Feminino')\n",
        "    return (genero_total / total) * 100\n",
        "\n",
        "def calcular_porcentagem_raca_mulheres(dados):\n",
        "    total = len(dados)\n",
        "    mulheres = [linha for linha in dados if linha[3] == 'Feminino']\n",
        "    raca = sum(1 for linha in mulheres if linha[4] == 'Parda' or linha[4] == 'Preta')\n",
        "    return (raca / total) * 100\n"
      ]
    },
    {
      "cell_type": "markdown",
      "metadata": {
        "id": "XjqzRNpyCVtt"
      },
      "source": [
        "#**Módulo 3: Manuseio e Escrita de Arquivos**"
      ]
    },
    {
      "cell_type": "markdown",
      "metadata": {
        "id": "daygfjD7CdJb"
      },
      "source": [
        "**Tarefa:** Criar um módulo `escrita_dados.py` que gera relatórios com os resultados das análises de diversidade, gravando essas informações em um arquivo de texto ou CSV.\n",
        "\n",
        "**Exemplo de código:**\n",
        "\n",
        "\n",
        "```\n",
        "def salvar_relatorio(caminho_arquivo, dados):\n",
        "    with open(caminho_arquivo, 'w') as file:\n",
        "        file.write(f\"Relatório de Diversidade:\\n{dados}\")\n",
        "\n",
        "```\n",
        "\n"
      ]
    },
    {
      "cell_type": "code",
      "execution_count": 51,
      "metadata": {
        "colab": {
          "base_uri": "https://localhost:8080/"
        },
        "id": "QpHTIyaT1I_V",
        "outputId": "d04cf084-092e-4088-b947-80cbcb6e720d"
      },
      "outputs": [
        {
          "output_type": "stream",
          "name": "stdout",
          "text": [
            "Porcentagem de Mulheres: 24.719101123595504%\n",
            "\n",
            "Porcentagem de Homens: 74.76591760299625%\n",
            "\n",
            "Porcentagem de Gênero Total: 99.48501872659176%\n",
            "\n",
            "Porcentagem de Mulheres Pardas ou Pretas: 8.21629213483146%\n",
            "\n"
          ]
        }
      ],
      "source": [
        "porcentagem_mulheres = print(f\"Porcentagem de Mulheres: {calcular_porcentagem_genero_mulheres(dados)}%\\n\")\n",
        "porcentagem_homens = print(f\"Porcentagem de Homens: {calcular_porcentagem_genero_homens(dados)}%\\n\")\n",
        "porcentagem_genero_geral = print(f\"Porcentagem de Gênero Total: {calcular_porcentagem_genero_total(dados)}%\\n\")\n",
        "porcentagem_raca_mulheres = print(f\"Porcentagem de Mulheres Pardas ou Pretas: {calcular_porcentagem_raca_mulheres(dados)}%\\n\")"
      ]
    },
    {
      "cell_type": "code",
      "source": [
        "%%writefile escrita_dados.py\n",
        "import csv\n",
        "\n",
        "def salvar_relatorio(caminho_arquivo, formato='txt'):\n",
        "    dados = ler_dados_diversidade()\n",
        "\n",
        "    with open(caminho_arquivo, 'w', newline='') as file:\n",
        "        if formato == 'txt':\n",
        "            file.write(\"Relatório de Diversidade:\\n\")\n",
        "            file.write(f\"Porcentagem de Mulheres: {calcular_porcentagem_genero_mulheres(dados)}%\\n\")\n",
        "            file.write(f\"Porcentagem de Homens: {calcular_porcentagem_genero_homens(dados)}%\\n\")\n",
        "            file.write(f\"Porcentagem de Gênero Total: {calcular_porcentagem_genero_total(dados)}%\\n\")\n",
        "            file.write(f\"Porcentagem de Mulheres Pardas ou Pretas: {calcular_porcentagem_raca_mulheres(dados)}%\\n\")\n",
        "\n",
        "        elif formato == 'csv':\n",
        "            writer = csv.writer(file)\n",
        "            writer.writerow(['Categoria', 'Valor'])\n",
        "            writer.writerow(['Porcentagem de Mulheres', calcular_porcentagem_genero_mulheres(dados)])\n",
        "            writer.writerow(['Porcentagem de Homens', calcular_porcentagem_genero_homens(dados)])\n",
        "            writer.writerow(['Porcentagem de Gênero Total', calcular_porcentagem_genero_total(dados)])\n",
        "            writer.writerow(['Porcentagem de Mulheres Pardas ou Pretas', calcular_porcentagem_raca_mulheres(dados)])\n",
        "\n"
      ],
      "metadata": {
        "colab": {
          "base_uri": "https://localhost:8080/"
        },
        "id": "lpEN9dT-HPZs",
        "outputId": "31e56351-d9c2-4663-b854-a73d3521ca62"
      },
      "execution_count": 46,
      "outputs": [
        {
          "output_type": "stream",
          "name": "stdout",
          "text": [
            "Overwriting escrita_dados.py\n"
          ]
        }
      ]
    },
    {
      "cell_type": "code",
      "source": [
        "salvar_relatorio('relatorio_diversidade.txt', formato='txt')\n",
        "salvar_relatorio('relatorio_diversidade.csv', formato='csv')"
      ],
      "metadata": {
        "id": "n2I2qodwLZ0g"
      },
      "execution_count": 49,
      "outputs": []
    },
    {
      "cell_type": "markdown",
      "metadata": {
        "id": "Wj4MLc_GDBZq"
      },
      "source": [
        "# Criação de Pacotes e Modularização\n",
        "\n",
        "**Tarefa:** Organizar o código criado em um pacote Python. O pacote deve conter os **módulos coleta_dados**, **processamento_dados** e **escrita_dados**. As alunas devem aprender como importar módulos e como organizar o código de forma limpa e reutilizável.\n",
        "\n",
        "**Exemplo de importação:**\n",
        "\n",
        "\n",
        "```\n",
        "from diversidade_empresa.coleta_dados import ler_dados_diversidade\n",
        "from diversidade_empresa.processamento_dados import calcular_porcentagem_genero\n",
        "from diversidade_empresa.escrita_dados import salvar_relatorio\n",
        "\n",
        "```\n",
        "\n"
      ]
    }
  ],
  "metadata": {
    "colab": {
      "provenance": [],
      "include_colab_link": true
    },
    "kernelspec": {
      "display_name": "Python 3",
      "name": "python3"
    },
    "language_info": {
      "name": "python"
    }
  },
  "nbformat": 4,
  "nbformat_minor": 0
}