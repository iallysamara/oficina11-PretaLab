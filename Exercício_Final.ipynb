{
  "nbformat": 4,
  "nbformat_minor": 0,
  "metadata": {
    "colab": {
      "provenance": [],
      "include_colab_link": true
    },
    "kernelspec": {
      "name": "python3",
      "display_name": "Python 3"
    },
    "language_info": {
      "name": "python"
    }
  },
  "cells": [
    {
      "cell_type": "markdown",
      "metadata": {
        "id": "view-in-github",
        "colab_type": "text"
      },
      "source": [
        "<a href=\"https://colab.research.google.com/github/iallysamara/oficina11-PretaLab/blob/main/Exerc%C3%ADcio_Final.ipynb\" target=\"_parent\"><img src=\"https://colab.research.google.com/assets/colab-badge.svg\" alt=\"Open In Colab\"/></a>"
      ]
    },
    {
      "cell_type": "markdown",
      "source": [
        "# Contagem de Medalhas\n",
        "\n",
        "Crie um programa que receba o número de medalhas de ouro, prata e bronze de um país nas Olimpíadas e calcule o total de medalhas.\n",
        "Quando escrever 'sair', o programa deverá encerrar e mostrar na tela o ranking de medalhas no formato:"
      ],
      "metadata": {
        "id": "RQN1e5FZY6SZ"
      }
    },
    {
      "cell_type": "code",
      "source": [
        "#Ranking de medalhas:\n",
        "#Brasil: 7 medalhas\n",
        "#França: 6 medalhas\n",
        "#Argentina: 3 medalhas"
      ],
      "metadata": {
        "id": "gCq_KLHzZSzb"
      },
      "execution_count": null,
      "outputs": []
    },
    {
      "cell_type": "code",
      "execution_count": 15,
      "metadata": {
        "id": "AJJhjxiPTd5s",
        "outputId": "1dc675f3-4ac0-4807-bef5-ac8928ce9dbb",
        "colab": {
          "base_uri": "https://localhost:8080/"
        }
      },
      "outputs": [
        {
          "output_type": "stream",
          "name": "stdout",
          "text": [
            "\n",
            "Digite o nome do país ou 'sair' para finalizar: Brasil\n",
            "Digite o número de medalha(s) de ouro para o país Brasil: 22\n",
            "Digite o número de medalha(s) de prata para o país Brasil: 10\n",
            "Digite o número de medalha(s) de ouro para o país Brasil: 6\n",
            "\n",
            "Digite o nome do país ou 'sair' para finalizar: EUA\n",
            "Digite o número de medalha(s) de ouro para o país EUA: 22\n",
            "Digite o número de medalha(s) de prata para o país EUA: 5\n",
            "Digite o número de medalha(s) de ouro para o país EUA: 3\n",
            "\n",
            "Digite o nome do país ou 'sair' para finalizar: SAIR\n",
            "\n",
            "Ranking de medalhas atual:\n",
            "Brasil: 22 ouro(s), 10 prata(s), 6 bronze(s) - Total : 38 medalhas\n",
            "EUA: 22 ouro(s), 5 prata(s), 3 bronze(s) - Total : 30 medalhas\n"
          ]
        }
      ],
      "source": [
        "# Resposta aqui\n",
        "ranking = {}\n",
        "\n",
        "while True:\n",
        "        pais = input(\"\\nDigite o nome do país ou 'sair' para finalizar: \")\n",
        "        if pais.upper() == 'SAIR':\n",
        "          break\n",
        "\n",
        "        try:\n",
        "            medalha_ouro = int(input(f\"Digite o número de medalha(s) de ouro para o país {pais}: \"))\n",
        "            medalha_prata = int(input(f\"Digite o número de medalha(s) de prata para o país {pais}: \"))\n",
        "            medalha_bronze = int(input(f\"Digite o número de medalha(s) de bronze para o país {pais}: \"))\n",
        "        except ValueError:\n",
        "            print(\"Erro: Por favor, digite um número válido.\")\n",
        "            continue\n",
        "        total_medalhas = medalha_ouro + medalha_prata + medalha_bronze\n",
        "        ranking[pais] = (medalha_ouro, medalha_prata, medalha_bronze, total_medalhas)\n",
        "\n",
        "print(\"\\nRanking de medalhas atual:\")\n",
        "\n",
        "for pais, (medalha_ouro, medalha_prata, medalha_bronze, total_medalhas) in sorted(ranking.items(), key=lambda x: (x[1][0], x[1][1], x[1][2]), reverse=True):\n",
        "    print(f\"{pais}: {medalha_ouro} ouro(s), {medalha_prata} prata(s), {medalha_bronze} bronze(s) - Total : {total_medalhas} medalhas\")"
      ]
    }
  ]
}
